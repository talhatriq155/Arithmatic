{
  "nbformat": 4,
  "nbformat_minor": 0,
  "metadata": {
    "colab": {
      "provenance": [],
      "authorship_tag": "ABX9TyO8TM8fi5+1fEInIBzDGx8T",
      "include_colab_link": true
    },
    "kernelspec": {
      "name": "python3",
      "display_name": "Python 3"
    },
    "language_info": {
      "name": "python"
    }
  },
  "cells": [
    {
      "cell_type": "markdown",
      "metadata": {
        "id": "view-in-github",
        "colab_type": "text"
      },
      "source": [
        "<a href=\"https://colab.research.google.com/github/talhatriq155/python_basic/blob/master/creating_list.ipynb\" target=\"_parent\"><img src=\"https://colab.research.google.com/assets/colab-badge.svg\" alt=\"Open In Colab\"/></a>"
      ]
    },
    {
      "cell_type": "code",
      "execution_count": 34,
      "metadata": {
        "colab": {
          "base_uri": "https://localhost:8080/"
        },
        "id": "tU-ZkI3JbE5M",
        "outputId": "45ab496c-a60a-4286-bb4f-c561f78181d0"
      },
      "outputs": [
        {
          "output_type": "stream",
          "name": "stdout",
          "text": [
            "1 2\n",
            "7\n",
            "[3, 4, 5, 6]\n"
          ]
        }
      ],
      "source": [
        "\n",
        "#list function using for converting value in list\n",
        "#print(list(range(1,1000)))\n",
        "a,b,*new_list,d=[1,2,3,4,5,6,7]\n",
        "print(a,b)\n",
        "print(d)\n",
        "print(new_list)"
      ]
    }
  ]
}