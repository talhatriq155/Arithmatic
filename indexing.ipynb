{
  "cells": [
    {
      "cell_type": "markdown",
      "metadata": {
        "id": "view-in-github",
        "colab_type": "text"
      },
      "source": [
        "<a href=\"https://colab.research.google.com/github/talhatriq155/Arithmetic/blob/master/indexing.ipynb\" target=\"_parent\"><img src=\"https://colab.research.google.com/assets/colab-badge.svg\" alt=\"Open In Colab\"/></a>"
      ]
    },
    {
      "cell_type": "code",
      "execution_count": 10,
      "metadata": {
        "colab": {
          "base_uri": "https://localhost:8080/"
        },
        "id": "bQtUrVTXvi87",
        "outputId": "8d580d53-b5ea-4626-a1cf-5b9ba7796e69"
      },
      "outputs": [
        {
          "output_type": "stream",
          "name": "stdout",
          "text": [
            "t\n",
            "q\n",
            "talh\n",
            "qirat ahlat\n",
            "talha tari\n",
            "Talha\n",
            "TALHA\n",
            "talha\n",
            "2\n",
            "Tariq\n",
            "Talha\n"
          ]
        }
      ],
      "source": [
        "# string indexing\n",
        "name='talha tariq'\n",
        "print(name[0])\n",
        "print(name[-1])\n",
        "#[start:stop:skip]\n",
        "print(name[0:4:])\n",
        "print(name[::-1])\n",
        "print(name[-11:-1:])\n",
        "#built in function and method\n",
        "name='Talha'\n",
        "\n",
        "print(name.capitalize())\n",
        "print(name.upper())\n",
        "print(name. lower())\n",
        "print(name.find('l'))\n",
        "print(name.replace('Talha','Tariq'))\n",
        "print(name)\n"
      ]
    }
  ],
  "metadata": {
    "colab": {
      "provenance": [],
      "authorship_tag": "ABX9TyP5FH8q5YZFi6s+Qsw679oA",
      "include_colab_link": true
    },
    "kernelspec": {
      "display_name": "Python 3",
      "name": "python3"
    },
    "language_info": {
      "name": "python"
    }
  },
  "nbformat": 4,
  "nbformat_minor": 0
}