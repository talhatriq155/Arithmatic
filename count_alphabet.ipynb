{
  "nbformat": 4,
  "nbformat_minor": 0,
  "metadata": {
    "colab": {
      "provenance": [],
      "authorship_tag": "ABX9TyMc7myJY7IPbrpP8jf3gW/d",
      "include_colab_link": true
    },
    "kernelspec": {
      "name": "python3",
      "display_name": "Python 3"
    },
    "language_info": {
      "name": "python"
    }
  },
  "cells": [
    {
      "cell_type": "markdown",
      "metadata": {
        "id": "view-in-github",
        "colab_type": "text"
      },
      "source": [
        "<a href=\"https://colab.research.google.com/github/talhatriq155/python_basic/blob/master/count_alphabet.ipynb\" target=\"_parent\"><img src=\"https://colab.research.google.com/assets/colab-badge.svg\" alt=\"Open In Colab\"/></a>"
      ]
    },
    {
      "cell_type": "code",
      "execution_count": 27,
      "metadata": {
        "colab": {
          "base_uri": "https://localhost:8080/"
        },
        "id": "K_YkGzzVpntf",
        "outputId": "0306ee67-fdf3-47ec-c812-31da3d4d266b"
      },
      "outputs": [
        {
          "output_type": "stream",
          "name": "stdout",
          "text": [
            "original string : \n",
            "def upper_counter(num1):\n",
            " alphabet={'upper case':0,'lower case':0}\n",
            "for i in num_1:\n",
            "  if i.isupper():\n",
            "   alphabet['upper case']+=1\n",
            "  elif i.islower():\n",
            "   alphabet['lower case']+=1\n",
            "  else:\n",
            "   pass\n",
            " print(f'original string : \n",
            "{num_1}')\n",
            " print(f'upper case {alphabet[\"upper case\"]}')\n",
            " print(f'lower case {alphabet[\"lower case\"]}')\n",
            "upper case 0\n",
            "lower case 204\n"
          ]
        }
      ],
      "source": [
        "\n",
        "def upper_counter(num1):\n",
        " alphabet={'upper case':0,'lower case':0}\n",
        " for i in num_1:\n",
        "  if i.isupper():\n",
        "   alphabet['upper case']+=1\n",
        "  elif i.islower():\n",
        "   alphabet['lower case']+=1\n",
        "  else:\n",
        "   pass\n",
        " print(f'original string : \\n{num_1}')\n",
        " print(f'upper case {alphabet[\"upper case\"]}')\n",
        " print(f'lower case {alphabet[\"lower case\"]}')\n",
        "\n",
        "\n",
        "\n",
        "\n",
        "num_1=\"\"\"def upper_counter(num1):\n",
        " alphabet={'upper case':0,'lower case':0}\n",
        "for i in num_1:\n",
        "  if i.isupper():\n",
        "   alphabet['upper case']+=1\n",
        "  elif i.islower():\n",
        "   alphabet['lower case']+=1\n",
        "  else:\n",
        "   pass\n",
        " print(f'original string : \\n{num_1}')\n",
        " print(f'upper case {alphabet[\"upper case\"]}')\n",
        " print(f'lower case {alphabet[\"lower case\"]}')\"\"\"\n",
        "\n",
        "upper_counter(num_1)"
      ]
    }
  ]
}