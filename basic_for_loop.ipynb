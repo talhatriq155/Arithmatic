{
  "cells": [
    {
      "cell_type": "markdown",
      "metadata": {
        "id": "view-in-github",
        "colab_type": "text"
      },
      "source": [
        "<a href=\"https://colab.research.google.com/github/talhatriq155/python_basic/blob/master/basic_for_loop.ipynb\" target=\"_parent\"><img src=\"https://colab.research.google.com/assets/colab-badge.svg\" alt=\"Open In Colab\"/></a>"
      ]
    },
    {
      "cell_type": "code",
      "source": [
        "#divisor\n",
        "#list_1=12\n",
        "#divisor=0\n",
        "#for x in range(1,12+1):\n",
        "#  if list_1 % x == 0:\n",
        "#   divisor += 1\n",
        "#that count the values that divide till zero not give values\n",
        "#print(divisor)\n",
        "\n",
        "list_1=12\n",
        "divisor=[]\n",
        "for x in range(1,12+1):\n",
        "  if list_1 % x == 0:\n",
        "   divisor.append(x)\n",
        "#that give  values that divide till zero\n",
        "print(divisor)\n",
        "\n",
        "\n",
        "#factorial\n",
        "#num_2=1\n",
        "#for x in range(1,5+1):\n",
        "#  num_2 *= x\n",
        "#  print(num_2)\n",
        "\n",
        "\n",
        "#exponent\n",
        "#list_1=range(1,5+1)\n",
        "#for x in list_1:\n",
        "#  new=(x**2)\n",
        "#  print(new)\n",
        "#generating table\n",
        "#num_2 = 5\n",
        "#num_1=range(0,11)\n",
        "#for x in num_1 :\n",
        "\n",
        "# x = 5\n",
        "# num_2 = 10\n",
        "#  print(f'{x} x {num_2} = { x * num_2}')\n",
        "\n",
        "\n",
        "# # odd numbers\n",
        "# for x in range(1,30,2) :\n",
        "#   print(x)\n",
        "# # even numbers\n",
        "# for x in range(0,30,2) :\n",
        "#   print(x)\n",
        "\n",
        "# total_num = 0\n",
        "# for num in range(1,50) :\n",
        "#   total_num += num\n",
        "#   print('total_sum of value is :' , total_num)\n",
        "\n",
        "# for x in range(1,20) :\n",
        "#    print(x)"
      ],
      "metadata": {
        "colab": {
          "base_uri": "https://localhost:8080/"
        },
        "id": "pzfIeVXQPjWC",
        "outputId": "a5d49870-057e-4efb-f4df-aca96e013a07"
      },
      "execution_count": 21,
      "outputs": [
        {
          "output_type": "stream",
          "name": "stdout",
          "text": [
            "[1, 2, 3, 4, 6, 12]\n"
          ]
        }
      ]
    }
  ],
  "metadata": {
    "colab": {
      "provenance": [],
      "include_colab_link": true
    },
    "kernelspec": {
      "display_name": "Python 3",
      "name": "python3"
    },
    "language_info": {
      "name": "python"
    }
  },
  "nbformat": 4,
  "nbformat_minor": 0
}