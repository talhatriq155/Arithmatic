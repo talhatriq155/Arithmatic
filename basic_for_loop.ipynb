{
  "cells": [
    {
      "cell_type": "markdown",
      "metadata": {
        "id": "view-in-github",
        "colab_type": "text"
      },
      "source": [
        "<a href=\"https://colab.research.google.com/github/talhatriq155/python_basic/blob/master/basic_for_loop.ipynb\" target=\"_parent\"><img src=\"https://colab.research.google.com/assets/colab-badge.svg\" alt=\"Open In Colab\"/></a>"
      ]
    },
    {
      "cell_type": "code",
      "source": [
        "num_2 = 5\n",
        "num_1=range(0,11)\n",
        "for x in num_1 :\n",
        "\n",
        "# x = 5\n",
        "# num_2 = 10\n",
        "  print(f'{x} x {num_2} = { x * num_2}')\n",
        "\n",
        "\n",
        "# # odd numbers\n",
        "# for x in range(1,30,2) :\n",
        "#   print(x)\n",
        "# # even numbers\n",
        "# for x in range(0,30,2) :\n",
        "#   print(x)\n",
        "\n",
        "# total_num = 0\n",
        "# for num in range(1,50) :\n",
        "#   total_num += num\n",
        "#   print('total_sum of value is :' , total_num)\n",
        "\n",
        "# for x in range(1,20) :\n",
        "#    print(x)"
      ],
      "metadata": {
        "colab": {
          "base_uri": "https://localhost:8080/"
        },
        "id": "pzfIeVXQPjWC",
        "outputId": "954d5e40-9905-4656-cc7b-a6dd6494b178"
      },
      "execution_count": 32,
      "outputs": [
        {
          "output_type": "stream",
          "name": "stdout",
          "text": [
            "0 x 5 = 0\n",
            "1 x 5 = 5\n",
            "2 x 5 = 10\n",
            "3 x 5 = 15\n",
            "4 x 5 = 20\n",
            "5 x 5 = 25\n",
            "6 x 5 = 30\n",
            "7 x 5 = 35\n",
            "8 x 5 = 40\n",
            "9 x 5 = 45\n",
            "10 x 5 = 50\n"
          ]
        }
      ]
    }
  ],
  "metadata": {
    "colab": {
      "provenance": [],
      "authorship_tag": "ABX9TyNn+5dqIFEdd4F9MI7Os4PW",
      "include_colab_link": true
    },
    "kernelspec": {
      "display_name": "Python 3",
      "name": "python3"
    },
    "language_info": {
      "name": "python"
    }
  },
  "nbformat": 4,
  "nbformat_minor": 0
}