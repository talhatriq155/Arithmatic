{
  "cells": [
    {
      "cell_type": "markdown",
      "metadata": {
        "id": "view-in-github",
        "colab_type": "text"
      },
      "source": [
        "<a href=\"https://colab.research.google.com/github/talhatriq155/Arithmetic/blob/master/string.ipynb\" target=\"_parent\"><img src=\"https://colab.research.google.com/assets/colab-badge.svg\" alt=\"Open In Colab\"/></a>"
      ]
    },
    {
      "cell_type": "code",
      "execution_count": 6,
      "metadata": {
        "colab": {
          "base_uri": "https://localhost:8080/"
        },
        "id": "bQtUrVTXvi87",
        "outputId": "9176d3e3-86c7-42e2-c25b-ba94b7d2d192"
      },
      "outputs": [
        {
          "output_type": "stream",
          "name": "stdout",
          "text": [
            "hello  talha  your item price is  20$\n"
          ]
        }
      ],
      "source": [
        "#string cancatination mean combine two strings\n",
        "#print('hello ' + 'talha')\n",
        "#message='hello '\n",
        "#name= (input('plz enter your name:'))\n",
        "#print(message + name)\n",
        "#integer and string data function\n",
        "#num_1=5\n",
        "#num_2=int(input('enter your number: '))\n",
        "#print(num_1+num_2)\n",
        "#string formating\n",
        "name = 'talha'\n",
        "price = '20$'\n",
        "#print('hello ' + name + ' your item price is  ' + price )\n",
        "#print('hello  {}  your item price is  {}' .format(name,price) )\n",
        "print(f'hello  {name}  your item price is  {price}'  )"
      ]
    }
  ],
  "metadata": {
    "colab": {
      "provenance": [],
      "authorship_tag": "ABX9TyMgkFgOvYH4t5MwaFkZP4+F",
      "include_colab_link": true
    },
    "kernelspec": {
      "display_name": "Python 3",
      "name": "python3"
    },
    "language_info": {
      "name": "python"
    }
  },
  "nbformat": 4,
  "nbformat_minor": 0
}