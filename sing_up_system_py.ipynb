{
  "cells": [
    {
      "cell_type": "markdown",
      "metadata": {
        "id": "view-in-github",
        "colab_type": "text"
      },
      "source": [
        "<a href=\"https://colab.research.google.com/github/talhatriq155/python_basic/blob/master/sing_up_system_py.ipynb\" target=\"_parent\"><img src=\"https://colab.research.google.com/assets/colab-badge.svg\" alt=\"Open In Colab\"/></a>"
      ]
    },
    {
      "cell_type": "code",
      "execution_count": 46,
      "metadata": {
        "colab": {
          "base_uri": "https://localhost:8080/",
          "height": 53
        },
        "id": "pzfIeVXQPjWC",
        "outputId": "62b90268-e8c1-4248-bf91-3374ef8627d5"
      },
      "outputs": [
        {
          "name": "stdout",
          "output_type": "stream",
          "text": [
            "write your full name: Talha tariq\n"
          ]
        },
        {
          "output_type": "execute_result",
          "data": {
            "text/plain": [
              "'your full name is : Talha tariq'"
            ],
            "application/vnd.google.colaboratory.intrinsic+json": {
              "type": "string"
            }
          },
          "metadata": {},
          "execution_count": 46
        }
      ],
      "source": [
        "def sign_up_system():\n",
        "#full asking full name\n",
        "  full_name=(input(f'write your full name: '))\n",
        "\n",
        "  if not full_name.replace(\" \", \"\").isalpha():\n",
        "   print('write in chracter')\n",
        "\n",
        "  elif len(full_name)  >= 6 :\n",
        "   return (f'your full name is : {full_name}')\n",
        "  else :\n",
        "   return('plz enter atleast 6 chracters')\n",
        "\n",
        "  phone_number=(input(f'enter your phone number: '))\n",
        "  if not phone_number.replace(\" \",\"\").isdigit():\n",
        "    print('plz write only numbers')\n",
        "  elif len(phone_number) >=10 and  len(phone_number)<=15 :\n",
        "    return (f'your phone number is: {phone_number}')\n",
        "  else:\n",
        "    print('plz write number between 10 to 15')\n",
        "sign_up_system()"
      ]
    }
  ],
  "metadata": {
    "colab": {
      "provenance": [],
      "authorship_tag": "ABX9TyMjjTutil1iRIbs5agvK3Rk",
      "include_colab_link": true
    },
    "kernelspec": {
      "display_name": "Python 3",
      "name": "python3"
    },
    "language_info": {
      "name": "python"
    }
  },
  "nbformat": 4,
  "nbformat_minor": 0
}