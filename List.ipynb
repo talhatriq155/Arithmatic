{
  "nbformat": 4,
  "nbformat_minor": 0,
  "metadata": {
    "colab": {
      "provenance": [],
      "authorship_tag": "ABX9TyOddKmswe6SjWLiSQOcAIyf",
      "include_colab_link": true
    },
    "kernelspec": {
      "name": "python3",
      "display_name": "Python 3"
    },
    "language_info": {
      "name": "python"
    }
  },
  "cells": [
    {
      "cell_type": "markdown",
      "metadata": {
        "id": "view-in-github",
        "colab_type": "text"
      },
      "source": [
        "<a href=\"https://colab.research.google.com/github/talhatriq155/Arithmetic/blob/master/List.ipynb\" target=\"_parent\"><img src=\"https://colab.research.google.com/assets/colab-badge.svg\" alt=\"Open In Colab\"/></a>"
      ]
    },
    {
      "cell_type": "code",
      "execution_count": 16,
      "metadata": {
        "colab": {
          "base_uri": "https://localhost:8080/"
        },
        "id": "tU-ZkI3JbE5M",
        "outputId": "e136a740-fc41-4904-c780-283ae1486b42"
      },
      "outputs": [
        {
          "output_type": "stream",
          "name": "stdout",
          "text": [
            "['a', 'b', 'c']\n",
            "[1, 2, 3, 4.0]\n",
            "[True, False]\n",
            "['TALHA', [1, 2, 3], [True, False]]\n",
            "2\n",
            "3\n"
          ]
        }
      ],
      "source": [
        "list_1=['a','b','c']\n",
        "list_2=[1,2,3,4.0]\n",
        "list_3=[True,False]\n",
        "list_4=['TALHA',[1,2,3],[True,False]]\n",
        "list_5=['TALHA',[1,2,3],[True,False]]\n",
        "list_6=['TALHA',[[1,2,3],2,3],[True,False]]\n",
        "print(list_1)\n",
        "print(list_2)\n",
        "print(list_3)\n",
        "print(list_4)\n",
        "print(list_5[1][1])\n",
        "print(list_6[1][0][2])"
      ]
    }
  ]
}