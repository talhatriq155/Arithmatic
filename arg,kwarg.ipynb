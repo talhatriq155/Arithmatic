{
  "nbformat": 4,
  "nbformat_minor": 0,
  "metadata": {
    "colab": {
      "provenance": [],
      "authorship_tag": "ABX9TyPGSvr/Zth7vsWXec0H4baS",
      "include_colab_link": true
    },
    "kernelspec": {
      "name": "python3",
      "display_name": "Python 3"
    },
    "language_info": {
      "name": "python"
    }
  },
  "cells": [
    {
      "cell_type": "markdown",
      "metadata": {
        "id": "view-in-github",
        "colab_type": "text"
      },
      "source": [
        "<a href=\"https://colab.research.google.com/github/talhatriq155/python_basic/blob/master/arg%2Ckwarg.ipynb\" target=\"_parent\"><img src=\"https://colab.research.google.com/assets/colab-badge.svg\" alt=\"Open In Colab\"/></a>"
      ]
    },
    {
      "cell_type": "code",
      "execution_count": 23,
      "metadata": {
        "colab": {
          "base_uri": "https://localhost:8080/"
        },
        "id": "K_YkGzzVpntf",
        "outputId": "082df0b3-7454-4394-8e95-4937f7a1c34b"
      },
      "outputs": [
        {
          "output_type": "stream",
          "name": "stdout",
          "text": [
            "(1, 2, 3, 4, 5)\n",
            "{'profit': 5, 'tax': 10}\n"
          ]
        },
        {
          "output_type": "execute_result",
          "data": {
            "text/plain": [
              "30"
            ]
          },
          "metadata": {},
          "execution_count": 23
        }
      ],
      "source": [
        "def adder(*arg,**kwarg):\n",
        "  print(arg)\n",
        "  print(kwarg)\n",
        "  total=0\n",
        "  for i in kwarg.values() :\n",
        "\n",
        "   total+=i\n",
        "  return(sum(arg)+total)\n",
        "adder(1,2,3, 4,5,profit=5,tax=10)"
      ]
    }
  ]
}