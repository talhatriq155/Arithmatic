{
  "nbformat": 4,
  "nbformat_minor": 0,
  "metadata": {
    "colab": {
      "provenance": [],
      "authorship_tag": "ABX9TyMc4VmX/KAD6NQg5lki6Ng3",
      "include_colab_link": true
    },
    "kernelspec": {
      "name": "python3",
      "display_name": "Python 3"
    },
    "language_info": {
      "name": "python"
    }
  },
  "cells": [
    {
      "cell_type": "markdown",
      "metadata": {
        "id": "view-in-github",
        "colab_type": "text"
      },
      "source": [
        "<a href=\"https://colab.research.google.com/github/talhatriq155/python_basic/blob/master/comprehensive_code.ipynb\" target=\"_parent\"><img src=\"https://colab.research.google.com/assets/colab-badge.svg\" alt=\"Open In Colab\"/></a>"
      ]
    },
    {
      "cell_type": "code",
      "execution_count": 21,
      "metadata": {
        "id": "evMRP69UWX7J",
        "colab": {
          "base_uri": "https://localhost:8080/"
        },
        "outputId": "1d1920d6-8d70-458e-b330-629393efd387"
      },
      "outputs": [
        {
          "output_type": "execute_result",
          "data": {
            "text/plain": [
              "True"
            ]
          },
          "metadata": {},
          "execution_count": 21
        }
      ],
      "source": [
        "#more comprehensive\n",
        "def even(number):\n",
        "  return number%2==0\n",
        "even(6)\n",
        "\n",
        "# more comprehensive\n",
        "#def even(number):\n",
        "#  if number%2==0:\n",
        "#   return 'even number'\n",
        "#  else:\n",
        "#   return 'odd number'\n",
        "#even(5)\n",
        "\n",
        "#even and odd\n",
        "#def even(number):\n",
        "#  if number%2==0:\n",
        "#   return 'even number'\n",
        "#  elif number%2!=0:\n",
        "#   return 'odd number'\n",
        "\n",
        "#even(6)"
      ]
    }
  ]
}