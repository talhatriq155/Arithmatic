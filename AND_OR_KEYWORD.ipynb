{
  "cells": [
    {
      "cell_type": "markdown",
      "metadata": {
        "id": "view-in-github",
        "colab_type": "text"
      },
      "source": [
        "<a href=\"https://colab.research.google.com/github/talhatriq155/python_basic/blob/master/AND_OR_KEYWORD.ipynb\" target=\"_parent\"><img src=\"https://colab.research.google.com/assets/colab-badge.svg\" alt=\"Open In Colab\"/></a>"
      ]
    },
    {
      "cell_type": "code",
      "execution_count": 15,
      "metadata": {
        "colab": {
          "base_uri": "https://localhost:8080/"
        },
        "id": "tU-ZkI3JbE5M",
        "outputId": "54875d3f-f8ec-48c6-a704-4da4e4ae564c"
      },
      "outputs": [
        {
          "output_type": "stream",
          "name": "stdout",
          "text": [
            "mouse eat chese\n"
          ]
        }
      ],
      "source": [
        "\n",
        "#AND IF ONE VALUE IS FALSE IN BOTH VALUE IT'S RETURN FASLE IT'S SHOULD BE NEED BOTH VALUES TRUE\n",
        "#OR IF ONE VALUE IS TRUE IN BOTH VALUE IT'S RETURN TRUE IT'S SHOULD BE NEED BOTH VALUES FALSE\n",
        "\n",
        "cat=False\n",
        "dog=True\n",
        "man=False\n",
        "\n",
        "#if cat or dog:\n",
        "   #print('mouse run away')\n",
        "#elif man:\n",
        "   #print('mouse is scared')\n",
        "#else:\n",
        "   #print('mouse eat chese')\n",
        "\n",
        "if cat and dog:\n",
        "   print('mouse run away')\n",
        "elif man:\n",
        "   print('mouse is scared')\n",
        "else:\n",
        "   print('mouse eat chese')"
      ]
    }
  ],
  "metadata": {
    "colab": {
      "provenance": [],
      "authorship_tag": "ABX9TyOz5gjkiH6evMnoZGxG9ppW",
      "include_colab_link": true
    },
    "kernelspec": {
      "display_name": "Python 3",
      "name": "python3"
    },
    "language_info": {
      "name": "python"
    }
  },
  "nbformat": 4,
  "nbformat_minor": 0
}