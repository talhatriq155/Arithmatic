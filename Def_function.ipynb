{
  "nbformat": 4,
  "nbformat_minor": 0,
  "metadata": {
    "colab": {
      "provenance": [],
      "authorship_tag": "ABX9TyPGC1kTTu9xiLkk7zscOvY1",
      "include_colab_link": true
    },
    "kernelspec": {
      "name": "python3",
      "display_name": "Python 3"
    },
    "language_info": {
      "name": "python"
    }
  },
  "cells": [
    {
      "cell_type": "markdown",
      "metadata": {
        "id": "view-in-github",
        "colab_type": "text"
      },
      "source": [
        "<a href=\"https://colab.research.google.com/github/talhatriq155/python_basic/blob/master/Def_function.ipynb\" target=\"_parent\"><img src=\"https://colab.research.google.com/assets/colab-badge.svg\" alt=\"Open In Colab\"/></a>"
      ]
    },
    {
      "cell_type": "code",
      "execution_count": 2,
      "metadata": {
        "id": "evMRP69UWX7J",
        "colab": {
          "base_uri": "https://localhost:8080/"
        },
        "outputId": "bd17fa4f-d5be-4f30-90cd-f27ffad63cf2"
      },
      "outputs": [
        {
          "output_type": "stream",
          "name": "stdout",
          "text": [
            "your tax is 100\n",
            "your tax is 85 dollars\n",
            "Help on function hisab in module __main__:\n",
            "\n",
            "hisab(amount=100)\n",
            "    that function is recipt for shopkeeper\n",
            "\n",
            "your tax is 100\n",
            "your tax is 85 dollars\n",
            "hello shani thanks for paying 30 DOLLAR\n",
            "hello talha thanks for paying 20 DOLLAR\n",
            "hello MAZZ thanks for paying 10 DOLLAR\n",
            "10\n",
            "hello world\n"
          ]
        }
      ],
      "source": [
        "#calling help function\n",
        "def hisab(amount=100):\n",
        "  '''\n",
        "  that function is recipt for shopkeeper\n",
        "  '''\n",
        "\n",
        "\n",
        "\n",
        "  print(f'your tax is {amount}')\n",
        "  return amount\n",
        "\n",
        "amount = hisab()\n",
        "tax=15\n",
        "print(f'your tax is {amount-tax } dollars')\n",
        "help(hisab)\n",
        "\n",
        "#return function\n",
        "def hisab(amount=100):\n",
        "  print(f'your tax is {amount}')\n",
        "  return amount\n",
        "\n",
        "amount = hisab()\n",
        "tax=15\n",
        "print(f'your tax is {amount-tax } dollars')\n",
        "\n",
        "\n",
        "\n",
        "\n",
        "\n",
        "#default parameter\n",
        "#you can further change this by giving positional and keyword argument\n",
        "def customer_2(name='shani',amount=30):\n",
        "\n",
        "   print(f'hello {name} thanks for paying {amount} DOLLAR')\n",
        "customer_2()\n",
        "\n",
        "\n",
        "\n",
        "#keyword argument\n",
        "def customer_2(name,amount):\n",
        "\n",
        "   print(f'hello {name} thanks for paying {amount} DOLLAR')\n",
        "customer_2(name='talha',amount=20)\n",
        "\n",
        "#positional argument\n",
        "def customer(name,amount):\n",
        "   print(f'hello {name} thanks for paying {amount} DOLLAR')\n",
        "\n",
        "customer('MAZZ',10)\n",
        "\n",
        "def num_2():\n",
        "  x=4\n",
        "  y=6\n",
        "  print(x+y)\n",
        "\n",
        "num_2()\n",
        "\n",
        "\n",
        "#def function is just used for compile code and apply  dry(do not repeat yourself) functio\n",
        "def num_1():\n",
        "  print('hello world')\n",
        "num_1()"
      ]
    }
  ]
}