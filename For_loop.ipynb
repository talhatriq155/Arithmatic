{
  "cells": [
    {
      "cell_type": "markdown",
      "metadata": {
        "id": "view-in-github",
        "colab_type": "text"
      },
      "source": [
        "<a href=\"https://colab.research.google.com/github/talhatriq155/python_basic/blob/master/For_loop.ipynb\" target=\"_parent\"><img src=\"https://colab.research.google.com/assets/colab-badge.svg\" alt=\"Open In Colab\"/></a>"
      ]
    },
    {
      "cell_type": "code",
      "execution_count": 6,
      "metadata": {
        "colab": {
          "base_uri": "https://localhost:8080/"
        },
        "id": "tU-ZkI3JbE5M",
        "outputId": "f6bd7c09-d751-44b5-e365-a595cdd96e25"
      },
      "outputs": [
        {
          "metadata": {
            "tags": null
          },
          "name": "stdout",
          "output_type": "stream",
          "text": [
            "apple\n",
            "apple price tag\n",
            "orange\n",
            "orange price tag\n",
            "banana\n",
            "banana price tag\n",
            "milk\n",
            "milk price tag\n",
            "bread\n",
            "bread price tag\n"
          ]
        }
      ],
      "source": [
        "my_list=['apple','orange','banana','milk','bread']\n",
        "# we use for loop method for it\n",
        "new_list=my_list\n",
        "for new_list in my_list:\n",
        "   print(new_list)\n",
        "   print(new_list+' price tag')\n",
        "#this method is also lengthy and if code increase then given variable it's give error\n",
        "#new_list=iter(my_list)\n",
        "#print(next(new_list) + ' price tag')\n",
        "#print(next(new_list) + ' price tag')\n",
        "#print(next(new_list) + ' price tag')\n",
        "#print(next(new_list) + ' price tag')\n",
        "#print(next(new_list) + ' price tag')\n",
        "#print(next(new_list) + ' price tag')\n",
        "#this method is so lengthy and and error issue if write extra index it's break the line\n",
        "#print(my_list[0] + ' price tag')\n",
        "#print(my_list[1] + ' price tag')\n",
        "#print(my_list[2] + ' price tag')\n",
        "#print(my_list[3] + ' price tag')\n",
        "#print(my_list[4] + ' price tag')\n",
        "#print(my_list[5] + ' price tag')"
      ]
    }
  ],
  "metadata": {
    "colab": {
      "provenance": [],
      "authorship_tag": "ABX9TyOk5mAwcCFd5aReW8awzhDa",
      "include_colab_link": true
    },
    "kernelspec": {
      "display_name": "Python 3",
      "name": "python3"
    },
    "language_info": {
      "name": "python"
    }
  },
  "nbformat": 4,
  "nbformat_minor": 0
}