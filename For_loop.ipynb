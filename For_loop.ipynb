{
  "cells": [
    {
      "cell_type": "markdown",
      "metadata": {
        "id": "view-in-github",
        "colab_type": "text"
      },
      "source": [
        "<a href=\"https://colab.research.google.com/github/talhatriq155/python_basic/blob/master/For_loop.ipynb\" target=\"_parent\"><img src=\"https://colab.research.google.com/assets/colab-badge.svg\" alt=\"Open In Colab\"/></a>"
      ]
    },
    {
      "cell_type": "code",
      "execution_count": 24,
      "metadata": {
        "colab": {
          "base_uri": "https://localhost:8080/"
        },
        "id": "tU-ZkI3JbE5M",
        "outputId": "1cc1fca4-b7db-465f-e7a4-3684550bd76c"
      },
      "outputs": [
        {
          "output_type": "stream",
          "name": "stdout",
          "text": [
            "apple price tag\n",
            "orange price tag\n",
            "banana price tag\n",
            "milk price tag\n",
            "bread price tag\n"
          ]
        }
      ],
      "source": [
        "my_list=['apple','orange','banana','milk','bread']\n",
        "# we use for loop method for it\n",
        "new_list=my_list\n",
        "for new_list in my_list:\n",
        "   (print(new_list+' price tag'))\n",
        "#this method is also lengthy and if code increase then given variable it's give error\n",
        "#new_list=iter(my_list)\n",
        "#print(next(new_list) + ' price tag')\n",
        "#print(next(new_list) + ' price tag')\n",
        "#print(next(new_list) + ' price tag')\n",
        "#print(next(new_list) + ' price tag')\n",
        "#print(next(new_list) + ' price tag')\n",
        "#print(next(new_list) + ' price tag')\n",
        "#this method is so lengthy and and error issue if write extra index it's break the line\n",
        "#print(my_list[0] + ' price tag')\n",
        "#print(my_list[1] + ' price tag')\n",
        "#print(my_list[2] + ' price tag')\n",
        "#print(my_list[3] + ' price tag')\n",
        "#print(my_list[4] + ' price tag')\n",
        "#print(my_list[5] + ' price tag')"
      ]
    }
  ],
  "metadata": {
    "colab": {
      "provenance": [],
      "authorship_tag": "ABX9TyOjgwJhES1fnNwJdu+t9/Pi",
      "include_colab_link": true
    },
    "kernelspec": {
      "display_name": "Python 3",
      "name": "python3"
    },
    "language_info": {
      "name": "python"
    }
  },
  "nbformat": 4,
  "nbformat_minor": 0
}