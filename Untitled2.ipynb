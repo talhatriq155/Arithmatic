{
  "nbformat": 4,
  "nbformat_minor": 0,
  "metadata": {
    "colab": {
      "provenance": [],
      "authorship_tag": "ABX9TyMjznf1N/XrImv22OA/2kvJ",
      "include_colab_link": true
    },
    "kernelspec": {
      "name": "python3",
      "display_name": "Python 3"
    },
    "language_info": {
      "name": "python"
    }
  },
  "cells": [
    {
      "cell_type": "markdown",
      "metadata": {
        "id": "view-in-github",
        "colab_type": "text"
      },
      "source": [
        "<a href=\"https://colab.research.google.com/github/talhatriq155/Arithmetic/blob/master/Untitled2.ipynb\" target=\"_parent\"><img src=\"https://colab.research.google.com/assets/colab-badge.svg\" alt=\"Open In Colab\"/></a>"
      ]
    },
    {
      "cell_type": "code",
      "execution_count": 5,
      "metadata": {
        "colab": {
          "base_uri": "https://localhost:8080/"
        },
        "id": "bQtUrVTXvi87",
        "outputId": "96cb4867-0429-4ca2-824e-20f09cda38a8"
      },
      "outputs": [
        {
          "output_type": "stream",
          "name": "stdout",
          "text": [
            "3\n",
            "-1\n",
            "2\n",
            "27\n",
            "0.5\n",
            "0\n",
            "2\n",
            "0\n",
            "<class 'int'>\n",
            "<class 'float'>\n",
            "3\n",
            "15\n",
            "8.5\n",
            "5\n",
            "100\n",
            "20\n",
            "100\n"
          ]
        }
      ],
      "source": [
        "print(1+2)\n",
        "print(1-2)\n",
        "print(1*2)\n",
        "#double star use for valu power\n",
        "print(3**3)\n",
        "print(1/2)\n",
        "#double slash use for round of value\n",
        "print(1//2)\n",
        "#percentage sign use for remainder details on register\n",
        "print(5%3)\n",
        "print(12%3)\n",
        "#function\n",
        "#type function use for telling data type\n",
        "print(type(2))\n",
        "print(type(2.5))\n",
        "#rounfd function used for round of value\n",
        "print(round(2.6))\n",
        "#abslute function use for give perfect value without sign\n",
        "print(abs(-15))\n",
        "print((2+4)+2**4-3*5-5/10+2)\n",
        "#variable\n",
        "a,b=2,3\n",
        "print(a+b)\n",
        "#agumented assigment opreator\n",
        "a=10\n",
        "a*= 10\n",
        "print(a)\n",
        "a=10\n",
        "a+= 10\n",
        "print(a)\n",
        "a=10\n",
        "a= a*10\n",
        "print(a)\n",
        "\n",
        "\n",
        "\n"
      ]
    }
  ]
}