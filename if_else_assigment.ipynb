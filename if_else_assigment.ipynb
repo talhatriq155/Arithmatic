{
  "nbformat": 4,
  "nbformat_minor": 0,
  "metadata": {
    "colab": {
      "provenance": [],
      "include_colab_link": true
    },
    "kernelspec": {
      "name": "python3",
      "display_name": "Python 3"
    },
    "language_info": {
      "name": "python"
    }
  },
  "cells": [
    {
      "cell_type": "markdown",
      "metadata": {
        "id": "view-in-github",
        "colab_type": "text"
      },
      "source": [
        "<a href=\"https://colab.research.google.com/github/talhatriq155/python_basic/blob/master/if_else_assigment.ipynb\" target=\"_parent\"><img src=\"https://colab.research.google.com/assets/colab-badge.svg\" alt=\"Open In Colab\"/></a>"
      ]
    },
    {
      "cell_type": "code",
      "execution_count": 9,
      "metadata": {
        "id": "rM9nHpatHciF",
        "colab": {
          "base_uri": "https://localhost:8080/"
        },
        "outputId": "327cb122-8848-4f60-cab9-e136b9506abf"
      },
      "outputs": [
        {
          "output_type": "stream",
          "name": "stdout",
          "text": [
            "enter your number out of 100 :101\n",
            "invalid input please enter marks between 0 to 100 \n"
          ]
        }
      ],
      "source": [
        "marks=(int(input('enter your number out of 100 :')))\n",
        "if 90 <= marks <=100 :\n",
        "  print(f'you write the marks is {marks} Grade A')\n",
        "elif 80 <= marks < 90 :\n",
        "  print('Grade B')\n",
        "elif 70 <= marks < 80 :\n",
        "  print('Grade C')\n",
        "elif 60 <= marks < 70 :\n",
        "  print('Grade D')\n",
        "elif  marks < 0 or marks > 100 :\n",
        "  print('invalid input please enter marks between 0 to 100 ')\n",
        "else :\n",
        "  print('Fail')\n",
        "\n",
        "\n",
        "# age=int(input('enter your age :'))\n",
        "# weight=int(input('enter your weight:'))\n",
        "\n",
        "# if age<10 :\n",
        "#   print(\"you are child, take care!\")\n",
        "# elif age>10 or age<18 and weight<50 :\n",
        "#   print('your are a teenager, stay healthy!')\n",
        "# elif age>19 or age<30 and weight>50 or weight<80 :\n",
        "#   print(\"you are young and fit !\")\n",
        "# elif age>30 or age<60 and weight>80 :\n",
        "#   print('you are senior citizen stay active!')\n",
        "# else :\n",
        "#   print('data not in rage, check your input')\n",
        "\n",
        "# age=int(input(\"enter your age:\"))\n",
        "# weight=int(input(\"enter your weight:\"))\n",
        "# if age<18 or weight<=40 :\n",
        "#    print(\"you are under age\")\n",
        "# elif age>=18 and age<=40 :\n",
        "#    print(\"your are adult\")\n",
        "# elif age>=55 and weight<=70 :\n",
        "#    print(\"your are older\")\n",
        "# else :\n",
        "#    print(\"you are not allowed\")"
      ]
    },
    {
      "cell_type": "markdown",
      "source": [],
      "metadata": {
        "id": "TEwK-mIYMI4n"
      }
    }
  ]
}