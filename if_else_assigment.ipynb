{
  "nbformat": 4,
  "nbformat_minor": 0,
  "metadata": {
    "colab": {
      "provenance": [],
      "authorship_tag": "ABX9TyPxQVHKkGy+QQcemjP0Hejf",
      "include_colab_link": true
    },
    "kernelspec": {
      "name": "python3",
      "display_name": "Python 3"
    },
    "language_info": {
      "name": "python"
    }
  },
  "cells": [
    {
      "cell_type": "markdown",
      "metadata": {
        "id": "view-in-github",
        "colab_type": "text"
      },
      "source": [
        "<a href=\"https://colab.research.google.com/github/talhatriq155/python_basic/blob/master/if_else_assigment.ipynb\" target=\"_parent\"><img src=\"https://colab.research.google.com/assets/colab-badge.svg\" alt=\"Open In Colab\"/></a>"
      ]
    },
    {
      "cell_type": "code",
      "execution_count": 16,
      "metadata": {
        "colab": {
          "base_uri": "https://localhost:8080/"
        },
        "id": "rM9nHpatHciF",
        "outputId": "e8bbc905-899d-4690-c5eb-d8f51b3c6b43"
      },
      "outputs": [
        {
          "output_type": "stream",
          "name": "stdout",
          "text": [
            "enter your age:100\n",
            "enter your weight:100\n",
            "you are not allowed\n"
          ]
        }
      ],
      "source": [
        "age=int(input(\"enter your age:\"))\n",
        "weight=int(input(\"enter your weight:\"))\n",
        "if age<18 or weight<=40 :\n",
        "   print(\"you are under age\")\n",
        "elif age>=18 and age<=40 :\n",
        "   print(\"your are adult\")\n",
        "elif age>=55 and weight<=70 :\n",
        "   print(\"your are older\")\n",
        "else :\n",
        "   print(\"you are not allowed\")"
      ]
    },
    {
      "cell_type": "markdown",
      "source": [],
      "metadata": {
        "id": "TEwK-mIYMI4n"
      }
    }
  ]
}