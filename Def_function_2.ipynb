{
  "nbformat": 4,
  "nbformat_minor": 0,
  "metadata": {
    "colab": {
      "provenance": [],
      "authorship_tag": "ABX9TyPOgL5ofimDoKYUXYugHzhD",
      "include_colab_link": true
    },
    "kernelspec": {
      "name": "python3",
      "display_name": "Python 3"
    },
    "language_info": {
      "name": "python"
    }
  },
  "cells": [
    {
      "cell_type": "markdown",
      "metadata": {
        "id": "view-in-github",
        "colab_type": "text"
      },
      "source": [
        "<a href=\"https://colab.research.google.com/github/talhatriq155/python_basic/blob/master/Def_function_2.ipynb\" target=\"_parent\"><img src=\"https://colab.research.google.com/assets/colab-badge.svg\" alt=\"Open In Colab\"/></a>"
      ]
    },
    {
      "cell_type": "code",
      "execution_count": 40,
      "metadata": {
        "id": "evMRP69UWX7J",
        "colab": {
          "base_uri": "https://localhost:8080/"
        },
        "outputId": "5bc9f08a-b8f5-4fdf-cf64-1349eb8394a8"
      },
      "outputs": [
        {
          "output_type": "stream",
          "name": "stdout",
          "text": [
            "3\n",
            "3\n",
            "<function roll_dice at 0x7f1c4a3663e0>\n",
            "user: hi gpt\n",
            "AI : talha how can i assist you today\n",
            "my name is talha\n",
            "thanks for sharing your name\n",
            "15\n",
            "5\n",
            "50\n",
            "2\n"
          ]
        }
      ],
      "source": [
        "\n",
        "import random\n",
        "def roll_dice(limit:int=6) :\n",
        "  print(random.randint(1,limit))\n",
        "\n",
        "  return roll_dice\n",
        "roll_dice()\n",
        "print(roll_dice(24))\n",
        "\n",
        "\n",
        "#Ai prompt\n",
        "def query(prompt,name):\n",
        "   print(f'user: {prompt}')\n",
        "   return f'AI : {name} how can i assist you today'\n",
        "response=query(prompt='hi gpt',name='talha')\n",
        "print(response)\n",
        "\n",
        "# return function\n",
        "def num_1():\n",
        "   print('my name is talha')\n",
        "   return 'thanks for sharing your name'\n",
        "\n",
        "information = num_1()\n",
        "print(information)\n",
        "#CALCULATOR\n",
        "\n",
        "def calculator(a,b,opreation) :\n",
        "\n",
        "   if opreation == 'add':\n",
        "    return a+b\n",
        "   elif opreation == 'subtract':\n",
        "    return a-b\n",
        "   elif opreation == 'multiply':\n",
        "    return a*b\n",
        "   elif opreation == 'divide':\n",
        "    return a//b\n",
        "   else:\n",
        "    return 'opreation is invalid'\n",
        "print(calculator(10,5, 'add'))\n",
        "print(calculator(10,5, 'subtract'))\n",
        "print(calculator(10,5, 'multiply'))\n",
        "print(calculator(10,5, 'divide'))"
      ]
    }
  ]
}