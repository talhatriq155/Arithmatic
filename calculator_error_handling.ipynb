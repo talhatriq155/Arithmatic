{
  "nbformat": 4,
  "nbformat_minor": 0,
  "metadata": {
    "colab": {
      "provenance": [],
      "authorship_tag": "ABX9TyP3khAaJrMrVpks5GYrL2sa",
      "include_colab_link": true
    },
    "kernelspec": {
      "name": "python3",
      "display_name": "Python 3"
    },
    "language_info": {
      "name": "python"
    }
  },
  "cells": [
    {
      "cell_type": "markdown",
      "metadata": {
        "id": "view-in-github",
        "colab_type": "text"
      },
      "source": [
        "<a href=\"https://colab.research.google.com/github/talhatriq155/python_basic/blob/master/calculator_error_handling.ipynb\" target=\"_parent\"><img src=\"https://colab.research.google.com/assets/colab-badge.svg\" alt=\"Open In Colab\"/></a>"
      ]
    },
    {
      "cell_type": "code",
      "execution_count": 4,
      "metadata": {
        "colab": {
          "base_uri": "https://localhost:8080/",
          "height": 512
        },
        "id": "ehALK6HA9e70",
        "outputId": "75746cea-b2a3-43a9-a48c-b7edbd106b28"
      },
      "outputs": [
        {
          "output_type": "stream",
          "name": "stdout",
          "text": [
            "welcome to the simple calculator\n",
            "chosse an opreation , +,-,*,/\n",
            "enter 'q' to quit code\n",
            "\n",
            " enter your first number2\n",
            "enter your opreation ,+,-,*,/+\n",
            "plz enter second number;2\n",
            "an un expected error ooccures: name 'reslut' is not defined\n",
            "opreation interupted existing calculator\n"
          ]
        },
        {
          "output_type": "error",
          "ename": "KeyboardInterrupt",
          "evalue": "Interrupted by user",
          "traceback": [
            "\u001b[0;31m---------------------------------------------------------------------------\u001b[0m",
            "\u001b[0;31mKeyboardInterrupt\u001b[0m                         Traceback (most recent call last)",
            "\u001b[0;32m<ipython-input-4-83ec87094038>\u001b[0m in \u001b[0;36m<cell line: 0>\u001b[0;34m()\u001b[0m\n\u001b[1;32m     41\u001b[0m     \u001b[0mprint\u001b[0m\u001b[0;34m(\u001b[0m\u001b[0;34m'thanks for using the calculator!'\u001b[0m\u001b[0;34m)\u001b[0m\u001b[0;34m\u001b[0m\u001b[0;34m\u001b[0m\u001b[0m\n\u001b[1;32m     42\u001b[0m \u001b[0;34m\u001b[0m\u001b[0m\n\u001b[0;32m---> 43\u001b[0;31m \u001b[0mcalculator\u001b[0m\u001b[0;34m(\u001b[0m\u001b[0;34m)\u001b[0m\u001b[0;34m\u001b[0m\u001b[0;34m\u001b[0m\u001b[0m\n\u001b[0m\u001b[1;32m     44\u001b[0m \u001b[0;34m\u001b[0m\u001b[0m\n\u001b[1;32m     45\u001b[0m \u001b[0;34m\u001b[0m\u001b[0m\n",
            "\u001b[0;32m<ipython-input-4-83ec87094038>\u001b[0m in \u001b[0;36mcalculator\u001b[0;34m()\u001b[0m\n\u001b[1;32m     37\u001b[0m     \u001b[0;32mexcept\u001b[0m \u001b[0mException\u001b[0m \u001b[0;32mas\u001b[0m \u001b[0me\u001b[0m \u001b[0;34m:\u001b[0m\u001b[0;34m\u001b[0m\u001b[0;34m\u001b[0m\u001b[0m\n\u001b[1;32m     38\u001b[0m      \u001b[0mprint\u001b[0m\u001b[0;34m(\u001b[0m\u001b[0;34mf'an un expected error ooccures: {e}'\u001b[0m\u001b[0;34m)\u001b[0m\u001b[0;34m\u001b[0m\u001b[0;34m\u001b[0m\u001b[0m\n\u001b[0;32m---> 39\u001b[0;31m   \u001b[0mrepeat\u001b[0m \u001b[0;34m=\u001b[0m \u001b[0minput\u001b[0m\u001b[0;34m(\u001b[0m\u001b[0;34m'do you want to perform another calculation?(y/n):'\u001b[0m\u001b[0;34m)\u001b[0m\u001b[0;34m\u001b[0m\u001b[0;34m\u001b[0m\u001b[0m\n\u001b[0m\u001b[1;32m     40\u001b[0m   \u001b[0;32mif\u001b[0m \u001b[0mrepeat\u001b[0m\u001b[0;34m.\u001b[0m\u001b[0mlower\u001b[0m\u001b[0;34m(\u001b[0m\u001b[0;34m)\u001b[0m \u001b[0;34m!=\u001b[0m \u001b[0;34m'y'\u001b[0m\u001b[0;34m:\u001b[0m\u001b[0;34m\u001b[0m\u001b[0;34m\u001b[0m\u001b[0m\n\u001b[1;32m     41\u001b[0m     \u001b[0mprint\u001b[0m\u001b[0;34m(\u001b[0m\u001b[0;34m'thanks for using the calculator!'\u001b[0m\u001b[0;34m)\u001b[0m\u001b[0;34m\u001b[0m\u001b[0;34m\u001b[0m\u001b[0m\n",
            "\u001b[0;32m/usr/local/lib/python3.11/dist-packages/ipykernel/kernelbase.py\u001b[0m in \u001b[0;36mraw_input\u001b[0;34m(self, prompt)\u001b[0m\n\u001b[1;32m    849\u001b[0m                 \u001b[0;34m\"raw_input was called, but this frontend does not support input requests.\"\u001b[0m\u001b[0;34m\u001b[0m\u001b[0;34m\u001b[0m\u001b[0m\n\u001b[1;32m    850\u001b[0m             )\n\u001b[0;32m--> 851\u001b[0;31m         return self._input_request(str(prompt),\n\u001b[0m\u001b[1;32m    852\u001b[0m             \u001b[0mself\u001b[0m\u001b[0;34m.\u001b[0m\u001b[0m_parent_ident\u001b[0m\u001b[0;34m,\u001b[0m\u001b[0;34m\u001b[0m\u001b[0;34m\u001b[0m\u001b[0m\n\u001b[1;32m    853\u001b[0m             \u001b[0mself\u001b[0m\u001b[0;34m.\u001b[0m\u001b[0m_parent_header\u001b[0m\u001b[0;34m,\u001b[0m\u001b[0;34m\u001b[0m\u001b[0;34m\u001b[0m\u001b[0m\n",
            "\u001b[0;32m/usr/local/lib/python3.11/dist-packages/ipykernel/kernelbase.py\u001b[0m in \u001b[0;36m_input_request\u001b[0;34m(self, prompt, ident, parent, password)\u001b[0m\n\u001b[1;32m    893\u001b[0m             \u001b[0;32mexcept\u001b[0m \u001b[0mKeyboardInterrupt\u001b[0m\u001b[0;34m:\u001b[0m\u001b[0;34m\u001b[0m\u001b[0;34m\u001b[0m\u001b[0m\n\u001b[1;32m    894\u001b[0m                 \u001b[0;31m# re-raise KeyboardInterrupt, to truncate traceback\u001b[0m\u001b[0;34m\u001b[0m\u001b[0;34m\u001b[0m\u001b[0m\n\u001b[0;32m--> 895\u001b[0;31m                 \u001b[0;32mraise\u001b[0m \u001b[0mKeyboardInterrupt\u001b[0m\u001b[0;34m(\u001b[0m\u001b[0;34m\"Interrupted by user\"\u001b[0m\u001b[0;34m)\u001b[0m \u001b[0;32mfrom\u001b[0m \u001b[0;32mNone\u001b[0m\u001b[0;34m\u001b[0m\u001b[0;34m\u001b[0m\u001b[0m\n\u001b[0m\u001b[1;32m    896\u001b[0m             \u001b[0;32mexcept\u001b[0m \u001b[0mException\u001b[0m \u001b[0;32mas\u001b[0m \u001b[0me\u001b[0m\u001b[0;34m:\u001b[0m\u001b[0;34m\u001b[0m\u001b[0;34m\u001b[0m\u001b[0m\n\u001b[1;32m    897\u001b[0m                 \u001b[0mself\u001b[0m\u001b[0;34m.\u001b[0m\u001b[0mlog\u001b[0m\u001b[0;34m.\u001b[0m\u001b[0mwarning\u001b[0m\u001b[0;34m(\u001b[0m\u001b[0;34m\"Invalid Message:\"\u001b[0m\u001b[0;34m,\u001b[0m \u001b[0mexc_info\u001b[0m\u001b[0;34m=\u001b[0m\u001b[0;32mTrue\u001b[0m\u001b[0;34m)\u001b[0m\u001b[0;34m\u001b[0m\u001b[0;34m\u001b[0m\u001b[0m\n",
            "\u001b[0;31mKeyboardInterrupt\u001b[0m: Interrupted by user"
          ]
        }
      ],
      "source": [
        "def calculator():\n",
        "  print('welcome to the simple calculator')\n",
        "  print('chosse an opreation , +,-,*,/')\n",
        "  print(\"enter 'q' to quit code\")\n",
        "  while True:\n",
        "    try :\n",
        "      first_input = input(\"\\n enter your first number\")\n",
        "      if first_input.lower() == 'q':\n",
        "       print('thanks for using calculator' )\n",
        "       break\n",
        "      num=float(first_input)\n",
        "      opreation = input('enter your opreation ,+,-,*,/')\n",
        "      if opreation not in ['+','-','*','/']:\n",
        "       print(\"invalid opreation.plz chosse from this ,+,-,*,/\")\n",
        "       continue\n",
        "      second_input=input('plz enter second number;')\n",
        "      num2=float(second_input)\n",
        "      if opreation == '+':\n",
        "       result = num + num2\n",
        "      elif  opreation == '-':\n",
        "       result = num - num2\n",
        "      elif opreation == '*':\n",
        "       result = num * num2\n",
        "      elif  opreation == '/':\n",
        "       result = num / num2\n",
        "       try :\n",
        "        result== num / num2\n",
        "       except ZeroDivisionError:\n",
        "        print('cannot divided by zero! try again')\n",
        "        continue\n",
        "      print(f'Reslut:{reslut}')\n",
        "    except ValueError:\n",
        "     print('invalid input. plz enter numeric value')\n",
        "    except KeyboardInterrupt:\n",
        "     print('opreation interupted existing calculator')\n",
        "     break\n",
        "    except Exception as e :\n",
        "     print(f'an un expected error ooccures: {e}')\n",
        "  repeat = input('do you want to perform another calculation?(y/n):')\n",
        "  if repeat.lower() != 'y':\n",
        "    print('thanks for using the calculator!')\n",
        "\n",
        "calculator()\n",
        "\n",
        "\n",
        "\n",
        "\n",
        "\n"
      ]
    },
    {
      "cell_type": "code",
      "source": [
        "def calculator():\n",
        "    print('Welcome to the Simple Calculator')\n",
        "    print('Choose an operation: +, -, *, /')\n",
        "    print(\"Enter 'q' to quit the calculator\")\n",
        "\n",
        "    while True:\n",
        "        try:\n",
        "            # Get the first number\n",
        "            first_input = input(\"\\nEnter your first number: \")\n",
        "            if first_input.lower() == 'q':\n",
        "                print('Thanks for using the calculator!')\n",
        "                break\n",
        "\n",
        "            num = float(first_input)\n",
        "\n",
        "            # Get the operation\n",
        "            operation = input('Enter your operation (+, -, *, /): ')\n",
        "            if operation not in ['+', '-', '*', '/']:\n",
        "                print(\"Invalid operation. Please choose from: +, -, *, /\")\n",
        "                continue\n",
        "\n",
        "            # Get the second number\n",
        "            second_input = input('Please enter the second number: ')\n",
        "            num2 = float(second_input)\n",
        "\n",
        "            # Perform the calculation\n",
        "            if operation == '+':\n",
        "                result = num + num2\n",
        "            elif operation == '-':\n",
        "                result = num - num2\n",
        "            elif operation == '*':\n",
        "                result = num * num2\n",
        "            elif operation == '/':\n",
        "                if num2 == 0:\n",
        "                    print('Cannot divide by zero! Try again.')\n",
        "                    continue\n",
        "                result = num / num2\n",
        "\n",
        "            # Display the result\n",
        "            print(f'Result: {result}')\n",
        "\n",
        "        except ValueError:\n",
        "            print('Invalid input. Please enter numeric values.')\n",
        "        except KeyboardInterrupt:\n",
        "            print('\\nOperation interrupted. Exiting the calculator.')\n",
        "            break\n",
        "        except Exception as e:\n",
        "            print(f'An unexpected error occurred: {e}')\n",
        "calculator()"
      ],
      "metadata": {
        "colab": {
          "base_uri": "https://localhost:8080/"
        },
        "id": "_pBc5PXf-BYn",
        "outputId": "4d6fd037-81f3-49c2-8160-38b2004a31d9"
      },
      "execution_count": null,
      "outputs": [
        {
          "output_type": "stream",
          "name": "stdout",
          "text": [
            "Welcome to the Simple Calculator\n",
            "Choose an operation: +, -, *, /\n",
            "Enter 'q' to quit the calculator\n",
            "\n",
            "Enter your first number: 2\n",
            "Enter your operation (+, -, *, /): +\n",
            "Please enter the second number: 2\n",
            "Result: 4.0\n"
          ]
        }
      ]
    }
  ]
}