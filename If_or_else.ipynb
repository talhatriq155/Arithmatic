{
  "cells": [
    {
      "cell_type": "markdown",
      "metadata": {
        "id": "view-in-github",
        "colab_type": "text"
      },
      "source": [
        "<a href=\"https://colab.research.google.com/github/talhatriq155/python_basic/blob/master/If_or_else.ipynb\" target=\"_parent\"><img src=\"https://colab.research.google.com/assets/colab-badge.svg\" alt=\"Open In Colab\"/></a>"
      ]
    },
    {
      "cell_type": "code",
      "execution_count": 13,
      "metadata": {
        "colab": {
          "base_uri": "https://localhost:8080/"
        },
        "id": "tU-ZkI3JbE5M",
        "outputId": "9ad5dddb-dfe8-4f56-892e-25436d4124b2"
      },
      "outputs": [
        {
          "output_type": "stream",
          "name": "stdout",
          "text": [
            "mouse eat chese\n"
          ]
        }
      ],
      "source": [
        "\n",
        "#if and elif belong to true and else is false\n",
        "\n",
        "#cat=True\n",
        "\n",
        "#if cat:\n",
        "    #print('mouse run away')\n",
        "#else:\n",
        "    #print('mouse eat chese')\n",
        "\n",
        "#cat=True\n",
        "#man=True\n",
        "\n",
        "#cat=False\n",
        "#man=True\n",
        "\n",
        "cat=False\n",
        "man=False\n",
        "if cat:\n",
        "   print('mouse run away')\n",
        "elif man:\n",
        "   print('mouse is scared')\n",
        "else:\n",
        "   print('mouse eat chese')"
      ]
    }
  ],
  "metadata": {
    "colab": {
      "provenance": [],
      "authorship_tag": "ABX9TyNaFmnfS/zjikGpBLvvCst0",
      "include_colab_link": true
    },
    "kernelspec": {
      "display_name": "Python 3",
      "name": "python3"
    },
    "language_info": {
      "name": "python"
    }
  },
  "nbformat": 4,
  "nbformat_minor": 0
}