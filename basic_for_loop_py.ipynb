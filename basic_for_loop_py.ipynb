{
  "cells": [
    {
      "cell_type": "markdown",
      "metadata": {
        "id": "view-in-github",
        "colab_type": "text"
      },
      "source": [
        "<a href=\"https://colab.research.google.com/github/talhatriq155/python_basic/blob/master/basic_for_loop_py.ipynb\" target=\"_parent\"><img src=\"https://colab.research.google.com/assets/colab-badge.svg\" alt=\"Open In Colab\"/></a>"
      ]
    },
    {
      "cell_type": "code",
      "source": [
        "\n",
        "\n",
        "\n",
        "# for x in range(10,0,-1):\n",
        "#   print(x)\n",
        "# num_2 = 5\n",
        "# num_1=range(0,11)\n",
        "# for x in num_1 :\n",
        "#   print(f'{x} x {num_2} = { x * num_2}')\n",
        "\n",
        "\n",
        "# # odd numbers\n",
        "# for x in range(1,30,2) :\n",
        "#   print(x)\n",
        "# # even numbers\n",
        "# for x in range(0,30,2) :\n",
        "#   print(x)\n",
        "\n",
        "# total_num = 0\n",
        "# for num in range(1,50) :\n",
        "#   total_num += num\n",
        "#   print('total_sum of value is :' , total_num)\n",
        "\n",
        "# for x in range(1,20) :\n",
        "#    print(x)"
      ],
      "metadata": {
        "id": "pzfIeVXQPjWC",
        "colab": {
          "base_uri": "https://localhost:8080/"
        },
        "outputId": "f14cd8df-9f2c-4daa-ad21-b7294464eb2a"
      },
      "execution_count": null,
      "outputs": [
        {
          "output_type": "stream",
          "name": "stdout",
          "text": [
            "10\n",
            "9\n",
            "8\n",
            "7\n",
            "6\n",
            "5\n",
            "4\n",
            "3\n",
            "2\n",
            "1\n"
          ]
        }
      ]
    }
  ],
  "metadata": {
    "colab": {
      "provenance": [],
      "authorship_tag": "ABX9TyPMOv+FJM2Q/QAJqATXjRVq",
      "include_colab_link": true
    },
    "kernelspec": {
      "display_name": "Python 3",
      "name": "python3"
    },
    "language_info": {
      "name": "python"
    }
  },
  "nbformat": 4,
  "nbformat_minor": 0
}