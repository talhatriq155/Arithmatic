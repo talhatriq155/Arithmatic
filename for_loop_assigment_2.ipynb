{
  "nbformat": 4,
  "nbformat_minor": 0,
  "metadata": {
    "colab": {
      "provenance": [],
      "authorship_tag": "ABX9TyN+Ee7U2sKNVEmvY00myxnu",
      "include_colab_link": true
    },
    "kernelspec": {
      "name": "python3",
      "display_name": "Python 3"
    },
    "language_info": {
      "name": "python"
    }
  },
  "cells": [
    {
      "cell_type": "markdown",
      "metadata": {
        "id": "view-in-github",
        "colab_type": "text"
      },
      "source": [
        "<a href=\"https://colab.research.google.com/github/talhatriq155/python_basic/blob/master/for_loop_assigment_2.ipynb\" target=\"_parent\"><img src=\"https://colab.research.google.com/assets/colab-badge.svg\" alt=\"Open In Colab\"/></a>"
      ]
    },
    {
      "cell_type": "code",
      "execution_count": 22,
      "metadata": {
        "id": "dNjzzQkipzS6",
        "colab": {
          "base_uri": "https://localhost:8080/"
        },
        "outputId": "16c08058-c53b-43ed-9708-4895bd19eb61"
      },
      "outputs": [
        {
          "output_type": "stream",
          "name": "stdout",
          "text": [
            "*****\n",
            "****\n",
            "***\n",
            "**\n",
            "*\n"
          ]
        }
      ],
      "source": [
        "\n",
        "\n",
        "\n",
        "\n",
        "#pattern printing\n",
        "\n",
        "#pattern= '*'\n",
        "#for x in range(5,0,-1):\n",
        "#   print(pattern * x)\n",
        "\n",
        "#table\n",
        "#list_1=2\n",
        "#for x in range(1,11):\n",
        "#  print(list_1*x)\n",
        "\n",
        "\n",
        "#even numbers\n",
        "#for x in range(0,11,2):\n",
        "#print(x)\n",
        "\n",
        "\n",
        "#odd numbers\n",
        "#for x in range(1,10,2):\n",
        "#  print(x)\n",
        "\n",
        "#factorial\n",
        "#factorial=1\n",
        "#for x in range(1,5+1):\n",
        "#  factorial *= x\n",
        "#  print(factorial)\n",
        "\n",
        "#reverse counting\n",
        "#for x in range(5,0,-1):\n",
        "#print(x)\n",
        "\n",
        "#sum of natural numbers\n",
        "#add_1=0\n",
        "#for x in range(1,5+1):\n",
        "#  add_1 += x\n",
        "#  print(add_1)"
      ]
    }
  ]
}