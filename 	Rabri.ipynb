{
  "nbformat": 4,
  "nbformat_minor": 0,
  "metadata": {
    "colab": {
      "provenance": [],
      "authorship_tag": "ABX9TyNBSYSmksC5mHxCEzlCYu5I",
      "include_colab_link": true
    },
    "kernelspec": {
      "name": "python3",
      "display_name": "Python 3"
    },
    "language_info": {
      "name": "python"
    }
  },
  "cells": [
    {
      "cell_type": "markdown",
      "metadata": {
        "id": "view-in-github",
        "colab_type": "text"
      },
      "source": [
        "<a href=\"https://colab.research.google.com/github/talhatriq155/Arithmetic/blob/master/%09Rabri.ipynb\" target=\"_parent\"><img src=\"https://colab.research.google.com/assets/colab-badge.svg\" alt=\"Open In Colab\"/></a>"
      ]
    },
    {
      "cell_type": "code",
      "execution_count": 16,
      "metadata": {
        "colab": {
          "base_uri": "https://localhost:8080/"
        },
        "id": "tU-ZkI3JbE5M",
        "outputId": "3ad8079b-ea61-4628-a6e6-43120682d342"
      },
      "outputs": [
        {
          "output_type": "stream",
          "name": "stdout",
          "text": [
            "total rabri in kg = 101\n"
          ]
        }
      ],
      "source": [
        "total_faculty=3\n",
        "total_admin=4\n",
        "total_students=400\n",
        "absent_member=3\n",
        "rabri_for_per_person_gm=250\n",
        "total_members=total_faculty+total_admin-absent_member+total_students\n",
        "total_rabri_in_kg=total_members*rabri_for_per_person_gm\n",
        "print(f'total rabri in kg = {total_rabri_in_kg//1000}')"
      ]
    }
  ]
}