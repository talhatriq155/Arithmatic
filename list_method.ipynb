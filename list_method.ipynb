{
  "nbformat": 4,
  "nbformat_minor": 0,
  "metadata": {
    "colab": {
      "provenance": [],
      "authorship_tag": "ABX9TyPNy7TkUZoaV0VSbwJKJdNH",
      "include_colab_link": true
    },
    "kernelspec": {
      "name": "python3",
      "display_name": "Python 3"
    },
    "language_info": {
      "name": "python"
    }
  },
  "cells": [
    {
      "cell_type": "markdown",
      "metadata": {
        "id": "view-in-github",
        "colab_type": "text"
      },
      "source": [
        "<a href=\"https://colab.research.google.com/github/talhatriq155/Arithmetic/blob/master/list_method.ipynb\" target=\"_parent\"><img src=\"https://colab.research.google.com/assets/colab-badge.svg\" alt=\"Open In Colab\"/></a>"
      ]
    },
    {
      "cell_type": "code",
      "execution_count": 19,
      "metadata": {
        "colab": {
          "base_uri": "https://localhost:8080/"
        },
        "id": "Lqsj7px6z1-N",
        "outputId": "a73d6874-40d7-45f1-95ed-824af816122a"
      },
      "outputs": [
        {
          "output_type": "stream",
          "name": "stdout",
          "text": [
            "mango\n",
            "['banana', 'apple']\n"
          ]
        }
      ],
      "source": [
        "cart=['banana','mango','apple']\n",
        "#cart.append(0,'peach')\n",
        "#cart.insert(0,'peach')\n",
        "#cart.extend('peach')\n",
        "#cart.remove('apple')\n",
        "#these method dose not.return the value to new variable\n",
        "#cart.clear()\n",
        "#cart.pop(0)\n",
        "#cart.pop()\n",
        "ys_cart=cart.pop(1)\n",
        "print(ys_cart)\n",
        "print(cart)"
      ]
    }
  ]
}