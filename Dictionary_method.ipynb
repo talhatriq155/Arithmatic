{
  "nbformat": 4,
  "nbformat_minor": 0,
  "metadata": {
    "colab": {
      "provenance": [],
      "authorship_tag": "ABX9TyPiIDt7jLzhaFEHGVMrjfPO",
      "include_colab_link": true
    },
    "kernelspec": {
      "name": "python3",
      "display_name": "Python 3"
    },
    "language_info": {
      "name": "python"
    }
  },
  "cells": [
    {
      "cell_type": "markdown",
      "metadata": {
        "id": "view-in-github",
        "colab_type": "text"
      },
      "source": [
        "<a href=\"https://colab.research.google.com/github/talhatriq155/python_basic/blob/master/Dictionary_method.ipynb\" target=\"_parent\"><img src=\"https://colab.research.google.com/assets/colab-badge.svg\" alt=\"Open In Colab\"/></a>"
      ]
    },
    {
      "cell_type": "code",
      "execution_count": 30,
      "metadata": {
        "colab": {
          "base_uri": "https://localhost:8080/"
        },
        "id": "tU-ZkI3JbE5M",
        "outputId": "4d22cf78-1b36-43de-eb77-0cde7604628c"
      },
      "outputs": [
        {
          "output_type": "stream",
          "name": "stdout",
          "text": [
            "None\n",
            "dict_keys(['player', 'power', 'bonus'])\n",
            "dict_items([('player', 'name'), ('power', 'full'), ('bonus', '1 live')])\n",
            "True\n",
            "it's game\n"
          ]
        }
      ],
      "source": [
        "\n",
        "game={\n",
        "'player':'name',\n",
        "'power':'full',\n",
        "'bonus':'1 live'\n",
        "}\n",
        "#print(game['weapon'])\n",
        "print(game.get('weapon'))\n",
        "print(game.keys())\n",
        "print(game.items())\n",
        "print('power' in game.keys())\n",
        "print(\"it's game\")"
      ]
    }
  ]
}