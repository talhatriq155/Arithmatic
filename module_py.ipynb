{
  "cells": [
    {
      "cell_type": "markdown",
      "metadata": {
        "id": "view-in-github",
        "colab_type": "text"
      },
      "source": [
        "<a href=\"https://colab.research.google.com/github/talhatriq155/python_basic/blob/master/module_py.ipynb\" target=\"_parent\"><img src=\"https://colab.research.google.com/assets/colab-badge.svg\" alt=\"Open In Colab\"/></a>"
      ]
    },
    {
      "cell_type": "code",
      "execution_count": null,
      "metadata": {
        "colab": {
          "base_uri": "https://localhost:8080/"
        },
        "id": "pzfIeVXQPjWC",
        "outputId": "f99dac23-1b28-4cb4-abe7-ce3375c31e82"
      },
      "outputs": [
        {
          "output_type": "stream",
          "name": "stdout",
          "text": [
            "hello welcome to the python class\n"
          ]
        }
      ],
      "source": [
        "#module\n",
        "from greetings import say_hello,hallo\n",
        "print(greetings.hallo())\n",
        "print(greetings.say_hello())\n",
        "#calculating radius\n",
        "from math import pi\n",
        "radius=7\n",
        "area=math.pi*(radius**2)\n",
        "print(area)"
      ]
    },
    {
      "cell_type": "code",
      "source": [
        "# opening file\n",
        "file = open('talha.txt','a+')\n",
        "file.write('\\nhello every onE')\n",
        "file.seek(0)\n",
        "line=file.read()\n",
        "print(line)\n",
        "file.close()"
      ],
      "metadata": {
        "id": "QuTExjVL9KuR",
        "outputId": "cfb9f09e-a2bb-47b8-e53b-451e1b0cfede",
        "colab": {
          "base_uri": "https://localhost:8080/"
        }
      },
      "execution_count": 4,
      "outputs": [
        {
          "output_type": "stream",
          "name": "stdout",
          "text": [
            "hello every onehello every onE/nhello every onE\n",
            "hello every onE\n"
          ]
        }
      ]
    },
    {
      "cell_type": "code",
      "source": [
        "with open('talha.txt','a+') as tal:\n",
        "  tal.write('hello sir najam')\n",
        "  tal.seek(0)\n",
        "  line2=tal.read()\n",
        "  print(line2)"
      ],
      "metadata": {
        "id": "MSmTU2-X-3l8",
        "outputId": "37a5d9bc-0561-4c84-a3a2-f50bd4b1af88",
        "colab": {
          "base_uri": "https://localhost:8080/"
        }
      },
      "execution_count": 9,
      "outputs": [
        {
          "output_type": "stream",
          "name": "stdout",
          "text": [
            "hello every onehello every onE/nhello every onE\n",
            "hello every onEhello sir najamhello sir najam\n"
          ]
        }
      ]
    }
  ],
  "metadata": {
    "colab": {
      "provenance": [],
      "authorship_tag": "ABX9TyMLE0DPV3WW1muA8QemReLi",
      "include_colab_link": true
    },
    "kernelspec": {
      "display_name": "Python 3",
      "name": "python3"
    },
    "language_info": {
      "name": "python"
    }
  },
  "nbformat": 4,
  "nbformat_minor": 0
}