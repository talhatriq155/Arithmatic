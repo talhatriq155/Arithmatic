{
  "nbformat": 4,
  "nbformat_minor": 0,
  "metadata": {
    "colab": {
      "provenance": [],
      "authorship_tag": "ABX9TyPALeZfpQ7rvtUg3gQ0Xg6w",
      "include_colab_link": true
    },
    "kernelspec": {
      "name": "python3",
      "display_name": "Python 3"
    },
    "language_info": {
      "name": "python"
    }
  },
  "cells": [
    {
      "cell_type": "markdown",
      "metadata": {
        "id": "view-in-github",
        "colab_type": "text"
      },
      "source": [
        "<a href=\"https://colab.research.google.com/github/talhatriq155/Arithmetic/blob/master/spacing.ipynb\" target=\"_parent\"><img src=\"https://colab.research.google.com/assets/colab-badge.svg\" alt=\"Open In Colab\"/></a>"
      ]
    },
    {
      "cell_type": "code",
      "execution_count": 19,
      "metadata": {
        "colab": {
          "base_uri": "https://localhost:8080/"
        },
        "id": "tU-ZkI3JbE5M",
        "outputId": "7ae7351a-5d61-460d-f520-5fa82d3fdd62"
      },
      "outputs": [
        {
          "output_type": "stream",
          "name": "stdout",
          "text": [
            "\n",
            "hi talha,\n",
            "you got a free coupon code\n",
            "xyz\n",
            "\n"
          ]
        }
      ],
      "source": [
        "\n",
        "\"\"\"\n",
        "print(\"HI TALHA, \\n YOU GOT A FREE COUPON CODE  \\n from: xyz\")\n",
        "print('''\n",
        "HI TALHA\n",
        "YOU GOT A FREE COUPON CODE\n",
        "FROM: XYZ\n",
        "\"\"\"\n",
        "\n",
        "name= 'talha'\n",
        "print(f'''\n",
        "hi {name},\n",
        "you got a free coupon code\n",
        "xyz\n",
        "''')"
      ]
    },
    {
      "cell_type": "code",
      "source": [
        "\n",
        "\n",
        "name= 'talha'\n",
        "print(f'''\n",
        "hi {name},\n",
        "you got a free coupon code\n",
        "from:xyz\n",
        " ''')"
      ],
      "metadata": {
        "colab": {
          "base_uri": "https://localhost:8080/",
          "height": 70
        },
        "id": "fTACzSDmyCf7",
        "outputId": "3b5becb0-1beb-4fb9-b5ae-8c3717463a03"
      },
      "execution_count": 18,
      "outputs": [
        {
          "output_type": "execute_result",
          "data": {
            "text/plain": [
              "\"\\nname= 'talha'\\nprint(f'''\\nhi {name},\\nyou got a free coupon code\\nfrom:xyz\\n ''')\\n\""
            ],
            "application/vnd.google.colaboratory.intrinsic+json": {
              "type": "string"
            }
          },
          "metadata": {},
          "execution_count": 18
        }
      ]
    }
  ]
}