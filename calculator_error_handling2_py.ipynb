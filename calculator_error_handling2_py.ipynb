{
  "cells": [
    {
      "cell_type": "markdown",
      "metadata": {
        "id": "view-in-github",
        "colab_type": "text"
      },
      "source": [
        "<a href=\"https://colab.research.google.com/github/talhatriq155/python_basic/blob/master/calculator_error_handling2_py.ipynb\" target=\"_parent\"><img src=\"https://colab.research.google.com/assets/colab-badge.svg\" alt=\"Open In Colab\"/></a>"
      ]
    },
    {
      "cell_type": "code",
      "execution_count": 4,
      "metadata": {
        "colab": {
          "base_uri": "https://localhost:8080/"
        },
        "id": "pzfIeVXQPjWC",
        "outputId": "a9e4ea59-45fd-4119-ba1c-74eebfdfda9f"
      },
      "outputs": [
        {
          "output_type": "stream",
          "name": "stdout",
          "text": [
            "Welcome to the Simple Calculator\n",
            "Choose an operation: +, -, *, /\n",
            "Enter 'q' to quit the calculator\n",
            "\n",
            "Enter your first number: 2\n",
            "Enter your operation (+, -, *, /): +\n",
            "Please enter the second number: 2\n",
            "Result: 4.0\n",
            "\n",
            "Enter your first number: q\n",
            "Thanks for using the calculator!\n"
          ]
        }
      ],
      "source": [
        "def calculator():\n",
        "    print('Welcome to the Simple Calculator')\n",
        "    print('Choose an operation: +, -, *, /')\n",
        "    print(\"Enter 'q' to quit the calculator\")\n",
        "\n",
        "    while True:\n",
        "        try:\n",
        "            # Get the first number\n",
        "            first_input = input(\"\\nEnter your first number: \")\n",
        "            if first_input.lower() == 'q':\n",
        "                print('Thanks for using the calculator!')\n",
        "                break\n",
        "\n",
        "            num = float(first_input)\n",
        "\n",
        "            # Get the operation\n",
        "            operation = input('Enter your operation (+, -, *, /): ')\n",
        "            if operation not in ['+', '-', '*', '/']:\n",
        "                print(\"Invalid operation. Please choose from: +, -, *, /\")\n",
        "                continue\n",
        "\n",
        "            # Get the second number\n",
        "            second_input = input('Please enter the second number: ')\n",
        "            num2 = float(second_input)\n",
        "\n",
        "            # Perform the calculation\n",
        "            if operation == '+':\n",
        "                result = num + num2\n",
        "            elif operation == '-':\n",
        "                result = num - num2\n",
        "            elif operation == '*':\n",
        "                result = num * num2\n",
        "            elif operation == '/':\n",
        "                if num2 == 0:\n",
        "                    print('Cannot divide by zero! Try again.')\n",
        "                    continue\n",
        "                result = num / num2\n",
        "\n",
        "            # Display the result\n",
        "            print(f'Result: {result}')\n",
        "\n",
        "        except ValueError:\n",
        "            print('Invalid input. Please enter numeric values.')\n",
        "        except KeyboardInterrupt:\n",
        "            print('\\nOperation interrupted. Exiting the calculator.')\n",
        "            break\n",
        "        except Exception as e:\n",
        "            print(f'An unexpected error occurred: {e}')\n",
        "calculator()"
      ]
    }
  ],
  "metadata": {
    "colab": {
      "provenance": [],
      "authorship_tag": "ABX9TyOquT0dKSiV1zYfzSb0bh3+",
      "include_colab_link": true
    },
    "kernelspec": {
      "display_name": "Python 3",
      "name": "python3"
    },
    "language_info": {
      "name": "python"
    }
  },
  "nbformat": 4,
  "nbformat_minor": 0
}