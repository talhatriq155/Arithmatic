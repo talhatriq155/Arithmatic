{
  "nbformat": 4,
  "nbformat_minor": 0,
  "metadata": {
    "colab": {
      "provenance": [],
      "authorship_tag": "ABX9TyMjgxZIx7mi4Rgi4BgL99lD",
      "include_colab_link": true
    },
    "kernelspec": {
      "name": "python3",
      "display_name": "Python 3"
    },
    "language_info": {
      "name": "python"
    }
  },
  "cells": [
    {
      "cell_type": "markdown",
      "metadata": {
        "id": "view-in-github",
        "colab_type": "text"
      },
      "source": [
        "<a href=\"https://colab.research.google.com/github/talhatriq155/python_basic/blob/master/scope_rules.ipynb\" target=\"_parent\"><img src=\"https://colab.research.google.com/assets/colab-badge.svg\" alt=\"Open In Colab\"/></a>"
      ]
    },
    {
      "cell_type": "code",
      "execution_count": 27,
      "metadata": {
        "colab": {
          "base_uri": "https://localhost:8080/"
        },
        "id": "negX2THXCjJh",
        "outputId": "de735f78-574d-49c1-8ed8-842b38e5fd58"
      },
      "outputs": [
        {
          "output_type": "stream",
          "name": "stdout",
          "text": [
            "at parents home\n"
          ]
        }
      ],
      "source": [
        "\n",
        "#1.they check on local space\n",
        "#2.they check on parent space\n",
        "#3.then check at global space\n",
        "#4 then check in built in function\n",
        "\n",
        "#global space\n",
        "#phone='at global space'\n",
        "#def parent_home():\n",
        "#parents space\n",
        "# phone='at parents home'\n",
        "#def home():\n",
        "#local space\n",
        "#  phone='at home'\n",
        "#  return phone\n",
        " #return max\n",
        "#return home()\n",
        "#print(parent_home())\n",
        "\n",
        "\n",
        "#global and non local function\n",
        "# global is use for approching global spcae variable\n",
        "# non local is use for approching parent space variable\n",
        "# they both avoid each other but not avoiding the local space i mean home space\n",
        "#global space\n",
        "phone='at global space'\n",
        "def parent_home():\n",
        "#parents space\n",
        " phone='at parents home'\n",
        " def home():\n",
        "#local space\n",
        "  global phone\n",
        "# nonlocal phone\n",
        " # phone='at home'\n",
        "  return phone\n",
        "\n",
        " return home()\n",
        "print(parent_home())"
      ]
    }
  ]
}