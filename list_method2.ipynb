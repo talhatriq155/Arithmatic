{
  "nbformat": 4,
  "nbformat_minor": 0,
  "metadata": {
    "colab": {
      "provenance": [],
      "authorship_tag": "ABX9TyPTvqzlMTTc2bYniI1CZG6m",
      "include_colab_link": true
    },
    "kernelspec": {
      "name": "python3",
      "display_name": "Python 3"
    },
    "language_info": {
      "name": "python"
    }
  },
  "cells": [
    {
      "cell_type": "markdown",
      "metadata": {
        "id": "view-in-github",
        "colab_type": "text"
      },
      "source": [
        "<a href=\"https://colab.research.google.com/github/talhatriq155/Arithmetic/blob/master/list_method2.ipynb\" target=\"_parent\"><img src=\"https://colab.research.google.com/assets/colab-badge.svg\" alt=\"Open In Colab\"/></a>"
      ]
    },
    {
      "cell_type": "code",
      "execution_count": 23,
      "metadata": {
        "colab": {
          "base_uri": "https://localhost:8080/"
        },
        "id": "tU-ZkI3JbE5M",
        "outputId": "61224ddc-bee1-47c1-8098-de3ed6549371"
      },
      "outputs": [
        {
          "output_type": "stream",
          "name": "stdout",
          "text": [
            "[1, 2, 4, 3, 5, 7, 6]\n",
            "[7, 6, 5, 4, 3, 2, 1]\n"
          ]
        }
      ],
      "source": [
        "#num=[1,2,3,4,5,5,6,7]\n",
        "#print(num.count(5))\n",
        "#num=[1,2,3,4,5,6,7]\n",
        "#print(num.index(3))\n",
        "#item=['apple','banana','mango']\n",
        "#print(item.index('banana',0,2))\n",
        "#sort and sorted is not return the value\n",
        "#and sort is change orignal data and sorted is not\n",
        "#num=[1,2,4,3,5,7,6]\n",
        "#num_1=num.sort()\n",
        "#print(num_1)\n",
        "num=[1,2,4,3,5,7,6]\n",
        "num_1=sorted(num)\n",
        "num_1.reverse()\n",
        "print(num)\n",
        "print(num_1)"
      ]
    }
  ]
}