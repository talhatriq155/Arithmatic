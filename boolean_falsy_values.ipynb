{
  "cells": [
    {
      "cell_type": "markdown",
      "metadata": {
        "id": "view-in-github",
        "colab_type": "text"
      },
      "source": [
        "<a href=\"https://colab.research.google.com/github/talhatriq155/python_basic/blob/master/boolean_falsy_values.ipynb\" target=\"_parent\"><img src=\"https://colab.research.google.com/assets/colab-badge.svg\" alt=\"Open In Colab\"/></a>"
      ]
    },
    {
      "cell_type": "code",
      "execution_count": null,
      "metadata": {
        "colab": {
          "base_uri": "https://localhost:8080/"
        },
        "id": "tU-ZkI3JbE5M",
        "outputId": "54875d3f-f8ec-48c6-a704-4da4e4ae564c"
      },
      "outputs": [
        {
          "output_type": "stream",
          "name": "stdout",
          "text": [
            "mouse eat chese\n"
          ]
        }
      ],
      "source": [
        "\n",
        ". Booleans:\n",
        "\n",
        "False\n",
        "\n",
        "\n",
        "\n",
        "2. Special constants:\n",
        "\n",
        "None\n",
        "\n",
        "\n",
        "\n",
        "3. Numbers:\n",
        "\n",
        "0 (integer)\n",
        "\n",
        "0.0 (floating-point)\n",
        "\n",
        "0j (complex number)\n",
        "\n",
        "\n",
        "\n",
        "4. Empty sequences and collections:\n",
        "\n",
        "'' or \"\" (empty string)\n",
        "\n",
        "[] (empty list)\n",
        "\n",
        "() (empty tuple)\n",
        "\n",
        "{} (empty dictionary)\n",
        "\n",
        "set() (empty set)\n",
        "\n",
        "frozenset() (empty frozenset)\n",
        "\n",
        "range(0) (empty range)\n",
        "\n",
        "\n",
        "\n",
        "5. Other types:\n",
        "\n",
        "Objects explicitly defined to have a __bool__ method returning False or a __len__ method returning 0."
      ]
    }
  ],
  "metadata": {
    "colab": {
      "provenance": [],
      "authorship_tag": "ABX9TyPhFHgEZR8VbsamK/7y053g",
      "include_colab_link": true
    },
    "kernelspec": {
      "display_name": "Python 3",
      "name": "python3"
    },
    "language_info": {
      "name": "python"
    }
  },
  "nbformat": 4,
  "nbformat_minor": 0
}