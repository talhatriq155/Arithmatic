{
  "cells": [
    {
      "cell_type": "markdown",
      "metadata": {
        "id": "view-in-github",
        "colab_type": "text"
      },
      "source": [
        "<a href=\"https://colab.research.google.com/github/talhatriq155/python_basic/blob/master/Sets_data_type.ipynb\" target=\"_parent\"><img src=\"https://colab.research.google.com/assets/colab-badge.svg\" alt=\"Open In Colab\"/></a>"
      ]
    },
    {
      "cell_type": "code",
      "execution_count": 15,
      "metadata": {
        "colab": {
          "base_uri": "https://localhost:8080/"
        },
        "id": "tU-ZkI3JbE5M",
        "outputId": "531c655d-768e-4374-f384-743f4db5a8e3"
      },
      "outputs": [
        {
          "output_type": "stream",
          "name": "stdout",
          "text": [
            "{1, 3, 4}\n",
            "{8, 6, 7}\n"
          ]
        }
      ],
      "source": [
        "#set_1={1,2,2,3,4}\n",
        "#set_2={5,6,7,8}\n",
        "#sets holding unique number\n",
        "#set_3=set_1,set_2\n",
        "#print(set_3)\n",
        "#set_1.add(100)\n",
        "#print(set_1)\n",
        "#union,intersection,diffrence\n",
        "set_1={1,2,3,4,5}\n",
        "set_2={5,6,7,8,2}\n",
        "#print(set_1.union(set_2))\n",
        "#print(set_1.intersection(set_2))\n",
        "print(set_1.difference(set_2))\n",
        "print(set_2.difference(set_1))"
      ]
    }
  ],
  "metadata": {
    "colab": {
      "provenance": [],
      "authorship_tag": "ABX9TyNKZDXu6C38TnA3wkJTfyUJ",
      "include_colab_link": true
    },
    "kernelspec": {
      "display_name": "Python 3",
      "name": "python3"
    },
    "language_info": {
      "name": "python"
    }
  },
  "nbformat": 4,
  "nbformat_minor": 0
}